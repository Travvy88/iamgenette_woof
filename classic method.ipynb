{
 "cells": [
  {
   "cell_type": "code",
   "execution_count": 1,
   "id": "lined-bread",
   "metadata": {},
   "outputs": [],
   "source": [
    "import os \n",
    "import pandas as pd\n",
    "import numpy as np\n",
    "from tqdm.notebook import tqdm\n",
    "from PIL import Image, ImageDraw\n",
    "\n",
    "import torch\n",
    "from torch import nn\n",
    "import torchvision\n",
    "from torch.nn import functional as F\n",
    "\n",
    "import matplotlib.pyplot as plt\n",
    "\n",
    "from utils.data import WoofDataset\n",
    "from utils.train import classic_train\n",
    "\n",
    "from torch.utils.data import DataLoader"
   ]
  },
  {
   "cell_type": "code",
   "execution_count": 2,
   "id": "sharp-selling",
   "metadata": {},
   "outputs": [
    {
     "data": {
      "text/plain": [
       "device(type='cuda', index=0)"
      ]
     },
     "execution_count": 2,
     "metadata": {},
     "output_type": "execute_result"
    }
   ],
   "source": [
    "torch.manual_seed(88)\n",
    "np.random.seed(88)\n",
    "\n",
    "device =  torch.device(('cuda:0' if torch.cuda.is_available() else 'cpu'))  # включаем поддержку GPU\n",
    "device"
   ]
  },
  {
   "cell_type": "code",
   "execution_count": 3,
   "id": "stable-reception",
   "metadata": {},
   "outputs": [],
   "source": [
    "train_set = WoofDataset('data/imagewoof2/train', (256, 256))\n",
    "val_set = WoofDataset('data/imagewoof2/val', (256, 256))"
   ]
  },
  {
   "cell_type": "code",
   "execution_count": 5,
   "id": "imported-briefing",
   "metadata": {},
   "outputs": [
    {
     "data": {
      "text/html": [
       "<div>\n",
       "<style scoped>\n",
       "    .dataframe tbody tr th:only-of-type {\n",
       "        vertical-align: middle;\n",
       "    }\n",
       "\n",
       "    .dataframe tbody tr th {\n",
       "        vertical-align: top;\n",
       "    }\n",
       "\n",
       "    .dataframe thead th {\n",
       "        text-align: right;\n",
       "    }\n",
       "</style>\n",
       "<table border=\"1\" class=\"dataframe\">\n",
       "  <thead>\n",
       "    <tr style=\"text-align: right;\">\n",
       "      <th></th>\n",
       "      <th>path</th>\n",
       "      <th>class</th>\n",
       "    </tr>\n",
       "  </thead>\n",
       "  <tbody>\n",
       "    <tr>\n",
       "      <th>0</th>\n",
       "      <td>data/imagewoof2/val/n02093754/n02093754_1340.JPEG</td>\n",
       "      <td>4</td>\n",
       "    </tr>\n",
       "    <tr>\n",
       "      <th>1</th>\n",
       "      <td>data/imagewoof2/val/n02093754/n02093754_4192.JPEG</td>\n",
       "      <td>4</td>\n",
       "    </tr>\n",
       "    <tr>\n",
       "      <th>2</th>\n",
       "      <td>data/imagewoof2/val/n02093754/n02093754_5522.JPEG</td>\n",
       "      <td>4</td>\n",
       "    </tr>\n",
       "    <tr>\n",
       "      <th>3</th>\n",
       "      <td>data/imagewoof2/val/n02093754/n02093754_6760.JPEG</td>\n",
       "      <td>4</td>\n",
       "    </tr>\n",
       "    <tr>\n",
       "      <th>4</th>\n",
       "      <td>data/imagewoof2/val/n02093754/n02093754_1851.JPEG</td>\n",
       "      <td>4</td>\n",
       "    </tr>\n",
       "    <tr>\n",
       "      <th>...</th>\n",
       "      <td>...</td>\n",
       "      <td>...</td>\n",
       "    </tr>\n",
       "    <tr>\n",
       "      <th>3924</th>\n",
       "      <td>data/imagewoof2/val/n02111889/n02111889_1020.JPEG</td>\n",
       "      <td>8</td>\n",
       "    </tr>\n",
       "    <tr>\n",
       "      <th>3925</th>\n",
       "      <td>data/imagewoof2/val/n02111889/n02111889_5532.JPEG</td>\n",
       "      <td>8</td>\n",
       "    </tr>\n",
       "    <tr>\n",
       "      <th>3926</th>\n",
       "      <td>data/imagewoof2/val/n02111889/n02111889_4470.JPEG</td>\n",
       "      <td>8</td>\n",
       "    </tr>\n",
       "    <tr>\n",
       "      <th>3927</th>\n",
       "      <td>data/imagewoof2/val/n02111889/n02111889_3480.JPEG</td>\n",
       "      <td>8</td>\n",
       "    </tr>\n",
       "    <tr>\n",
       "      <th>3928</th>\n",
       "      <td>data/imagewoof2/val/n02111889/n02111889_91.JPEG</td>\n",
       "      <td>8</td>\n",
       "    </tr>\n",
       "  </tbody>\n",
       "</table>\n",
       "<p>3929 rows × 2 columns</p>\n",
       "</div>"
      ],
      "text/plain": [
       "                                                   path  class\n",
       "0     data/imagewoof2/val/n02093754/n02093754_1340.JPEG      4\n",
       "1     data/imagewoof2/val/n02093754/n02093754_4192.JPEG      4\n",
       "2     data/imagewoof2/val/n02093754/n02093754_5522.JPEG      4\n",
       "3     data/imagewoof2/val/n02093754/n02093754_6760.JPEG      4\n",
       "4     data/imagewoof2/val/n02093754/n02093754_1851.JPEG      4\n",
       "...                                                 ...    ...\n",
       "3924  data/imagewoof2/val/n02111889/n02111889_1020.JPEG      8\n",
       "3925  data/imagewoof2/val/n02111889/n02111889_5532.JPEG      8\n",
       "3926  data/imagewoof2/val/n02111889/n02111889_4470.JPEG      8\n",
       "3927  data/imagewoof2/val/n02111889/n02111889_3480.JPEG      8\n",
       "3928    data/imagewoof2/val/n02111889/n02111889_91.JPEG      8\n",
       "\n",
       "[3929 rows x 2 columns]"
      ]
     },
     "execution_count": 5,
     "metadata": {},
     "output_type": "execute_result"
    }
   ],
   "source": [
    "val_set.csv"
   ]
  },
  {
   "cell_type": "code",
   "execution_count": 24,
   "id": "received-stephen",
   "metadata": {},
   "outputs": [],
   "source": [
    "BATCH_SIZE = 50\n",
    "NUM_WORKERS = 4\n",
    "NAME_TEST = 'classic_resnet18'\n",
    "NUM_TEST = 0\n",
    "\n",
    "if not os.path.isdir('weights/' + NAME_TEST):\n",
    "    os.mkdir('weights/' + NAME_TEST)\n",
    "\n",
    "train_loader = DataLoader(train_set, batch_size=BATCH_SIZE, shuffle=True, num_workers=NUM_WORKERS)\n",
    "val_loader = DataLoader(val_set, batch_size=BATCH_SIZE, shuffle=False, num_workers=NUM_WORKERS)"
   ]
  },
  {
   "cell_type": "code",
   "execution_count": 25,
   "id": "based-integer",
   "metadata": {},
   "outputs": [],
   "source": [
    "net = torchvision.models.resnet18(pretrained=True)\n",
    "net.fc = nn.Linear(512, 10)\n",
    "\n",
    "net = net.to(device)"
   ]
  },
  {
   "cell_type": "code",
   "execution_count": 26,
   "id": "sunset-statistics",
   "metadata": {},
   "outputs": [],
   "source": [
    "loss_fn = nn.CrossEntropyLoss()\n",
    "optimizer = torch.optim.Adam(net.parameters(), lr = 0.0001, amsgrad=True)"
   ]
  },
  {
   "cell_type": "code",
   "execution_count": 27,
   "id": "alpha-china",
   "metadata": {
    "scrolled": false
   },
   "outputs": [
    {
     "name": "stdout",
     "output_type": "stream",
     "text": [
      "-- EPOCH 0 ---------------------\n"
     ]
    },
    {
     "data": {
      "application/vnd.jupyter.widget-view+json": {
       "model_id": "1be58431aba74aac95c1bdaf9c64f4b0",
       "version_major": 2,
       "version_minor": 0
      },
      "text/plain": [
       "  0%|          | 0/181 [00:00<?, ?it/s]"
      ]
     },
     "metadata": {},
     "output_type": "display_data"
    },
    {
     "name": "stdout",
     "output_type": "stream",
     "text": [
      "Validating...\n"
     ]
    },
    {
     "name": "stderr",
     "output_type": "stream",
     "text": [
      "/usr/local/lib/python3.6/dist-packages/numpy/core/fromnumeric.py:3335: RuntimeWarning: Mean of empty slice.\n",
      "  out=out, **kwargs)\n",
      "/usr/local/lib/python3.6/dist-packages/numpy/core/_methods.py:161: RuntimeWarning: invalid value encountered in double_scalars\n",
      "  ret = ret.dtype.type(ret / rcount)\n"
     ]
    },
    {
     "name": "stdout",
     "output_type": "stream",
     "text": [
      "Epoch 0 Iteration 0 \n",
      "Train loss = nan \n",
      "Val loss = 2.554213842259178 \n",
      "Accuracy = 0.17358106388393993 \n",
      "F-score = 0.0924722557519154 \n",
      "\n",
      "-- EPOCH 1 ---------------------\n"
     ]
    },
    {
     "data": {
      "application/vnd.jupyter.widget-view+json": {
       "model_id": "10fb6dcc435a40a38ce9cdaec9a47521",
       "version_major": 2,
       "version_minor": 0
      },
      "text/plain": [
       "  0%|          | 0/181 [00:00<?, ?it/s]"
      ]
     },
     "metadata": {},
     "output_type": "display_data"
    },
    {
     "name": "stdout",
     "output_type": "stream",
     "text": [
      "Validating...\n",
      "Epoch 1 Iteration 181 \n",
      "Train loss = 0.4755676072605407 \n",
      "Val loss = 0.26625177405680284 \n",
      "Accuracy = 0.9139730211249681 \n",
      "F-score = 0.9134471160600843 \n",
      "\n",
      "-- EPOCH 2 ---------------------\n"
     ]
    },
    {
     "data": {
      "application/vnd.jupyter.widget-view+json": {
       "model_id": "659b46a04ce444f7b55840f75c3a4382",
       "version_major": 2,
       "version_minor": 0
      },
      "text/plain": [
       "  0%|          | 0/181 [00:00<?, ?it/s]"
      ]
     },
     "metadata": {},
     "output_type": "display_data"
    },
    {
     "name": "stdout",
     "output_type": "stream",
     "text": [
      "Validating...\n",
      "Epoch 2 Iteration 362 \n",
      "Train loss = 0.1098932715246032 \n",
      "Val loss = 0.29495030587326876 \n",
      "Accuracy = 0.9020106897429372 \n",
      "F-score = 0.9026760805396176 \n",
      "\n",
      "-- EPOCH 3 ---------------------\n"
     ]
    },
    {
     "data": {
      "application/vnd.jupyter.widget-view+json": {
       "model_id": "9897e1da03134473bc9dbfac61d565f3",
       "version_major": 2,
       "version_minor": 0
      },
      "text/plain": [
       "  0%|          | 0/181 [00:00<?, ?it/s]"
      ]
     },
     "metadata": {},
     "output_type": "display_data"
    },
    {
     "name": "stdout",
     "output_type": "stream",
     "text": [
      "Validating...\n",
      "Epoch 3 Iteration 543 \n",
      "Train loss = 0.032715177279253854 \n",
      "Val loss = 0.2588074711516877 \n",
      "Accuracy = 0.9236446933061848 \n",
      "F-score = 0.9226586482625074 \n",
      "\n",
      "-- EPOCH 4 ---------------------\n"
     ]
    },
    {
     "data": {
      "application/vnd.jupyter.widget-view+json": {
       "model_id": "e32ef649088241009e47ee474222b5e8",
       "version_major": 2,
       "version_minor": 0
      },
      "text/plain": [
       "  0%|          | 0/181 [00:00<?, ?it/s]"
      ]
     },
     "metadata": {},
     "output_type": "display_data"
    },
    {
     "name": "stdout",
     "output_type": "stream",
     "text": [
      "Validating...\n",
      "Epoch 4 Iteration 724 \n",
      "Train loss = 0.013197103059896942 \n",
      "Val loss = 0.24425798208936106 \n",
      "Accuracy = 0.9256808348180199 \n",
      "F-score = 0.9254583147548989 \n",
      "\n",
      "-- EPOCH 5 ---------------------\n"
     ]
    },
    {
     "data": {
      "application/vnd.jupyter.widget-view+json": {
       "model_id": "645fa744e6f4441f8b080696bbfcb6d2",
       "version_major": 2,
       "version_minor": 0
      },
      "text/plain": [
       "  0%|          | 0/181 [00:00<?, ?it/s]"
      ]
     },
     "metadata": {},
     "output_type": "display_data"
    },
    {
     "name": "stdout",
     "output_type": "stream",
     "text": [
      "Validating...\n",
      "Epoch 5 Iteration 905 \n",
      "Train loss = 0.006237508746466049 \n",
      "Val loss = 0.23796040324282042 \n",
      "Accuracy = 0.9305166709086281 \n",
      "F-score = 0.9300705053201573 \n",
      "\n",
      "-- EPOCH 6 ---------------------\n"
     ]
    },
    {
     "data": {
      "application/vnd.jupyter.widget-view+json": {
       "model_id": "dd274f23c61741a9a41957f4a1440d25",
       "version_major": 2,
       "version_minor": 0
      },
      "text/plain": [
       "  0%|          | 0/181 [00:00<?, ?it/s]"
      ]
     },
     "metadata": {},
     "output_type": "display_data"
    },
    {
     "name": "stdout",
     "output_type": "stream",
     "text": [
      "Validating...\n",
      "Epoch 6 Iteration 1086 \n",
      "Train loss = 0.005103167073121963 \n",
      "Val loss = 0.250012931802982 \n",
      "Accuracy = 0.9261898701959786 \n",
      "F-score = 0.9261086371806074 \n",
      "\n",
      "-- EPOCH 7 ---------------------\n"
     ]
    },
    {
     "data": {
      "application/vnd.jupyter.widget-view+json": {
       "model_id": "0a88c8409e294a31aef79ea19a41eadb",
       "version_major": 2,
       "version_minor": 0
      },
      "text/plain": [
       "  0%|          | 0/181 [00:00<?, ?it/s]"
      ]
     },
     "metadata": {},
     "output_type": "display_data"
    },
    {
     "name": "stdout",
     "output_type": "stream",
     "text": [
      "Validating...\n",
      "Epoch 7 Iteration 1267 \n",
      "Train loss = 0.003666370349437081 \n",
      "Val loss = 0.24391591822422004 \n",
      "Accuracy = 0.9294986001527106 \n",
      "F-score = 0.9290813818268946 \n",
      "\n",
      "-- EPOCH 8 ---------------------\n"
     ]
    },
    {
     "data": {
      "application/vnd.jupyter.widget-view+json": {
       "model_id": "b894806fa3b84eca9bb7c5ae35c784ce",
       "version_major": 2,
       "version_minor": 0
      },
      "text/plain": [
       "  0%|          | 0/181 [00:00<?, ?it/s]"
      ]
     },
     "metadata": {},
     "output_type": "display_data"
    },
    {
     "name": "stdout",
     "output_type": "stream",
     "text": [
      "Validating...\n",
      "Epoch 8 Iteration 1448 \n",
      "Train loss = 0.0025706517449657316 \n",
      "Val loss = 0.248054558588074 \n",
      "Accuracy = 0.9300076355306693 \n",
      "F-score = 0.9297096474670649 \n",
      "\n",
      "-- EPOCH 9 ---------------------\n"
     ]
    },
    {
     "data": {
      "application/vnd.jupyter.widget-view+json": {
       "model_id": "204c801b7acc4e588f2c1578774772d8",
       "version_major": 2,
       "version_minor": 0
      },
      "text/plain": [
       "  0%|          | 0/181 [00:00<?, ?it/s]"
      ]
     },
     "metadata": {},
     "output_type": "display_data"
    },
    {
     "name": "stdout",
     "output_type": "stream",
     "text": [
      "Validating...\n",
      "Epoch 9 Iteration 1629 \n",
      "Train loss = 0.0025546435895118635 \n",
      "Val loss = 0.2463435040834018 \n",
      "Accuracy = 0.9256808348180199 \n",
      "F-score = 0.9255182166001346 \n",
      "\n"
     ]
    }
   ],
   "source": [
    "result = classic_train(net, 181, device, loss_fn, optimizer, train_loader, val_loader, num_epoch=10, NUM_TEST=NUM_TEST, NAME_TEST=NAME_TEST, begin=0)"
   ]
  },
  {
   "cell_type": "code",
   "execution_count": 29,
   "id": "designed-johnson",
   "metadata": {},
   "outputs": [
    {
     "data": {
      "text/plain": [
       "[<matplotlib.lines.Line2D at 0x7f216ea3f7f0>]"
      ]
     },
     "execution_count": 29,
     "metadata": {},
     "output_type": "execute_result"
    },
    {
     "data": {
      "image/png": "[encoded data removed]",
      "text/plain": [
       "<Figure size 432x288 with 1 Axes>"
      ]
     },
     "metadata": {
      "needs_background": "light"
     },
     "output_type": "display_data"
    }
   ],
   "source": [
    "plt.plot(result[0])\n",
    "plt.title('Train loss')"
   ]
  },
  {
   "cell_type": "code",
   "execution_count": 30,
   "id": "specified-nylon",
   "metadata": {},
   "outputs": [
    {
     "data": {
      "text/plain": [
       "[<matplotlib.lines.Line2D at 0x7f216e944978>]"
      ]
     },
     "execution_count": 30,
     "metadata": {},
     "output_type": "execute_result"
    },
    {
     "data": {
      "image/png": "[encoded data removed]",
      "text/plain": [
       "<Figure size 432x288 with 1 Axes>"
      ]
     },
     "metadata": {
      "needs_background": "light"
     },
     "output_type": "display_data"
    }
   ],
   "source": [
    "plt.plot(result[1])\n",
    "plt.title('Test loss')"
   ]
  },
  {
   "cell_type": "code",
   "execution_count": 32,
   "id": "waiting-bicycle",
   "metadata": {},
   "outputs": [
    {
     "data": {
      "text/plain": [
       "Text(0.5, 1.0, 'accuracy & f1')"
      ]
     },
     "execution_count": 32,
     "metadata": {},
     "output_type": "execute_result"
    },
    {
     "data": {
      "image/png": "[encoded data removed]",
      "text/plain": [
       "<Figure size 432x288 with 1 Axes>"
      ]
     },
     "metadata": {
      "needs_background": "light"
     },
     "output_type": "display_data"
    }
   ],
   "source": [
    "plt.plot(result[2])\n",
    "plt.plot(result[3])\n",
    "plt.title('accuracy & f1')"
   ]
  },
  {
   "cell_type": "code",
   "execution_count": 39,
   "id": "pacific-launch",
   "metadata": {},
   "outputs": [
    {
     "data": {
      "text/plain": [
       "<All keys matched successfully>"
      ]
     },
     "execution_count": 39,
     "metadata": {},
     "output_type": "execute_result"
    }
   ],
   "source": [
    "net.load_state_dict(torch.load('weights/classic_resnet18/test-0-epoch-5-iter-905.pth'))  "
   ]
  },
  {
   "cell_type": "code",
   "execution_count": 40,
   "id": "flexible-tucson",
   "metadata": {},
   "outputs": [],
   "source": [
    "from utils.testing import test_classic"
   ]
  },
  {
   "cell_type": "code",
   "execution_count": 41,
   "id": "complicated-trademark",
   "metadata": {},
   "outputs": [
    {
     "name": "stdout",
     "output_type": "stream",
     "text": [
      "\n",
      "Accuracy = 0.9305166709086281 \n",
      "F-score = 0.9300705053201573 \n",
      "\n"
     ]
    }
   ],
   "source": [
    "test_classic(net, val_loader, device)"
   ]
  },
  {
   "cell_type": "code",
   "execution_count": null,
   "id": "athletic-green",
   "metadata": {},
   "outputs": [],
   "source": []
  }
 ],
 "metadata": {
  "kernelspec": {
   "display_name": "Python 3",
   "language": "python",
   "name": "python3"
  },
  "language_info": {
   "codemirror_mode": {
    "name": "ipython",
    "version": 3
   },
   "file_extension": ".py",
   "mimetype": "text/x-python",
   "name": "python",
   "nbconvert_exporter": "python",
   "pygments_lexer": "ipython3",
   "version": "3.6.9"
  }
 },
 "nbformat": 4,
 "nbformat_minor": 5
}
