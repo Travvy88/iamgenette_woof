{
 "cells": [
  {
   "cell_type": "markdown",
   "metadata": {},
   "source": [
    "Train resnet18 on cropped dogs. Mian idea is that there are a lot of non-useful information in imagewoof photos. I cropped photos (check \"crop and mask.ipynb\") and train resnet18 on new data."
   ]
  },
  {
   "cell_type": "code",
   "execution_count": 1,
   "metadata": {},
   "outputs": [],
   "source": [
    "import os \n",
    "import pandas as pd\n",
    "import numpy as np\n",
    "from tqdm.notebook import tqdm\n",
    "from PIL import Image, ImageDraw\n",
    "\n",
    "import torch\n",
    "from torch import nn\n",
    "import torchvision\n",
    "from torch.nn import functional as F\n",
    "\n",
    "import matplotlib.pyplot as plt\n",
    "\n",
    "from utils.data import WoofDataset\n",
    "from utils.train import classic_train\n",
    "\n",
    "from torch.utils.data import DataLoader"
   ]
  },
  {
   "cell_type": "code",
   "execution_count": 2,
   "metadata": {},
   "outputs": [
    {
     "data": {
      "text/plain": [
       "device(type='cuda', index=0)"
      ]
     },
     "execution_count": 2,
     "metadata": {},
     "output_type": "execute_result"
    }
   ],
   "source": [
    "torch.manual_seed(88)\n",
    "np.random.seed(88)\n",
    "\n",
    "device =  torch.device(('cuda:0' if torch.cuda.is_available() else 'cpu'))  # включаем поддержку GPU\n",
    "device"
   ]
  },
  {
   "cell_type": "code",
   "execution_count": 38,
   "metadata": {},
   "outputs": [],
   "source": [
    "train_set = WoofDataset('data/woof_cut/train/boxed', (256, 256))\n",
    "val_set = WoofDataset('data/woof_cut/val/boxed', (256, 256))"
   ]
  },
  {
   "cell_type": "code",
   "execution_count": 39,
   "metadata": {},
   "outputs": [],
   "source": [
    "BATCH_SIZE = 50\n",
    "NUM_WORKERS = 4\n",
    "NAME_TEST = 'boxed_resnet18'\n",
    "NUM_TEST = 0\n",
    "\n",
    "if not os.path.isdir('weights/' + NAME_TEST):\n",
    "    os.mkdir('weights/' + NAME_TEST)\n",
    "\n",
    "train_loader = DataLoader(train_set, batch_size=BATCH_SIZE, shuffle=True, num_workers=NUM_WORKERS)\n",
    "val_loader = DataLoader(val_set, batch_size=BATCH_SIZE, shuffle=False, num_workers=NUM_WORKERS)"
   ]
  },
  {
   "cell_type": "code",
   "execution_count": 40,
   "metadata": {},
   "outputs": [],
   "source": [
    "net = torchvision.models.resnet18(pretrained=True)\n",
    "net.fc = nn.Linear(512, 10)\n",
    "\n",
    "net = net.to(device)"
   ]
  },
  {
   "cell_type": "code",
   "execution_count": 41,
   "metadata": {},
   "outputs": [],
   "source": [
    "loss_fn = nn.CrossEntropyLoss()\n",
    "optimizer = torch.optim.Adam(net.parameters(), lr = 0.0001, amsgrad=True)"
   ]
  },
  {
   "cell_type": "code",
   "execution_count": 42,
   "metadata": {
    "scrolled": false
   },
   "outputs": [
    {
     "name": "stdout",
     "output_type": "stream",
     "text": [
      "-- EPOCH 0 ---------------------\n"
     ]
    },
    {
     "data": {
      "application/vnd.jupyter.widget-view+json": {
       "model_id": "0b285a567fed491388bd450676cea297",
       "version_major": 2,
       "version_minor": 0
      },
      "text/plain": [
       "  0%|          | 0/180 [00:00<?, ?it/s]"
      ]
     },
     "metadata": {},
     "output_type": "display_data"
    },
    {
     "name": "stdout",
     "output_type": "stream",
     "text": [
      "Validating...\n"
     ]
    },
    {
     "name": "stderr",
     "output_type": "stream",
     "text": [
      "/usr/local/lib/python3.6/dist-packages/numpy/core/fromnumeric.py:3335: RuntimeWarning: Mean of empty slice.\n",
      "  out=out, **kwargs)\n",
      "/usr/local/lib/python3.6/dist-packages/numpy/core/_methods.py:161: RuntimeWarning: invalid value encountered in double_scalars\n",
      "  ret = ret.dtype.type(ret / rcount)\n"
     ]
    },
    {
     "name": "stdout",
     "output_type": "stream",
     "text": [
      "Epoch 0 Iteration 0 \n",
      "Train loss = nan \n",
      "Val loss = 2.5305829289593276 \n",
      "Accuracy = 0.1556978233034571 \n",
      "F-score = 0.07334361527773131 \n",
      "\n",
      "-- EPOCH 1 ---------------------\n"
     ]
    },
    {
     "data": {
      "application/vnd.jupyter.widget-view+json": {
       "model_id": "8a6c76b037944887b720a816e230ad2f",
       "version_major": 2,
       "version_minor": 0
      },
      "text/plain": [
       "  0%|          | 0/180 [00:00<?, ?it/s]"
      ]
     },
     "metadata": {},
     "output_type": "display_data"
    },
    {
     "name": "stdout",
     "output_type": "stream",
     "text": [
      "Validating...\n",
      "Epoch 1 Iteration 180 \n",
      "Train loss = 0.5385147878279288 \n",
      "Val loss = 0.3658845909411394 \n",
      "Accuracy = 0.8852752880921895 \n",
      "F-score = 0.8857659526697065 \n",
      "\n",
      "-- EPOCH 2 ---------------------\n"
     ]
    },
    {
     "data": {
      "application/vnd.jupyter.widget-view+json": {
       "model_id": "2d10c3bd8e204c1db5cc8052ed98202e",
       "version_major": 2,
       "version_minor": 0
      },
      "text/plain": [
       "  0%|          | 0/180 [00:00<?, ?it/s]"
      ]
     },
     "metadata": {},
     "output_type": "display_data"
    },
    {
     "name": "stdout",
     "output_type": "stream",
     "text": [
      "Validating...\n",
      "Epoch 2 Iteration 360 \n",
      "Train loss = 0.15916698982732164 \n",
      "Val loss = 0.3447969636490828 \n",
      "Accuracy = 0.8942381562099871 \n",
      "F-score = 0.8935544218954973 \n",
      "\n",
      "-- EPOCH 3 ---------------------\n"
     ]
    },
    {
     "data": {
      "application/vnd.jupyter.widget-view+json": {
       "model_id": "136980c88d934c71b786024a17d462b1",
       "version_major": 2,
       "version_minor": 0
      },
      "text/plain": [
       "  0%|          | 0/180 [00:00<?, ?it/s]"
      ]
     },
     "metadata": {},
     "output_type": "display_data"
    },
    {
     "name": "stdout",
     "output_type": "stream",
     "text": [
      "Validating...\n",
      "Epoch 3 Iteration 540 \n",
      "Train loss = 0.05720381592400372 \n",
      "Val loss = 0.3412337280526946 \n",
      "Accuracy = 0.8985915492957747 \n",
      "F-score = 0.8978208172258694 \n",
      "\n",
      "-- EPOCH 4 ---------------------\n"
     ]
    },
    {
     "data": {
      "application/vnd.jupyter.widget-view+json": {
       "model_id": "aac072db3bd84dac83bd57690475be56",
       "version_major": 2,
       "version_minor": 0
      },
      "text/plain": [
       "  0%|          | 0/180 [00:00<?, ?it/s]"
      ]
     },
     "metadata": {},
     "output_type": "display_data"
    },
    {
     "name": "stdout",
     "output_type": "stream",
     "text": [
      "Validating...\n",
      "Epoch 4 Iteration 720 \n",
      "Train loss = 0.019395307697252267 \n",
      "Val loss = 0.32558071877382977 \n",
      "Accuracy = 0.9062740076824584 \n",
      "F-score = 0.9059706135360293 \n",
      "\n",
      "-- EPOCH 5 ---------------------\n"
     ]
    },
    {
     "data": {
      "application/vnd.jupyter.widget-view+json": {
       "model_id": "d65cbd967a314f48a7258f90bd663244",
       "version_major": 2,
       "version_minor": 0
      },
      "text/plain": [
       "  0%|          | 0/180 [00:00<?, ?it/s]"
      ]
     },
     "metadata": {},
     "output_type": "display_data"
    },
    {
     "name": "stdout",
     "output_type": "stream",
     "text": [
      "Validating...\n",
      "Epoch 5 Iteration 900 \n",
      "Train loss = 0.007200236240815785 \n",
      "Val loss = 0.3198952218399772 \n",
      "Accuracy = 0.9096030729833546 \n",
      "F-score = 0.9092820844862382 \n",
      "\n",
      "-- EPOCH 6 ---------------------\n"
     ]
    },
    {
     "data": {
      "application/vnd.jupyter.widget-view+json": {
       "model_id": "7b985709981a49aead0e2d602747e2d0",
       "version_major": 2,
       "version_minor": 0
      },
      "text/plain": [
       "  0%|          | 0/180 [00:00<?, ?it/s]"
      ]
     },
     "metadata": {},
     "output_type": "display_data"
    },
    {
     "name": "stdout",
     "output_type": "stream",
     "text": [
      "Validating...\n",
      "Epoch 6 Iteration 1080 \n",
      "Train loss = 0.005122060445784074 \n",
      "Val loss = 0.32193323842520954 \n",
      "Accuracy = 0.9119078104993598 \n",
      "F-score = 0.9114556767525114 \n",
      "\n",
      "-- EPOCH 7 ---------------------\n"
     ]
    },
    {
     "data": {
      "application/vnd.jupyter.widget-view+json": {
       "model_id": "5f493b6ce85c486889a301aced49ad92",
       "version_major": 2,
       "version_minor": 0
      },
      "text/plain": [
       "  0%|          | 0/180 [00:00<?, ?it/s]"
      ]
     },
     "metadata": {},
     "output_type": "display_data"
    },
    {
     "name": "stdout",
     "output_type": "stream",
     "text": [
      "Validating...\n",
      "Epoch 7 Iteration 1260 \n",
      "Train loss = 0.0036216147418599576 \n",
      "Val loss = 0.3273447488517135 \n",
      "Accuracy = 0.9134443021766966 \n",
      "F-score = 0.9131841963089814 \n",
      "\n",
      "-- EPOCH 8 ---------------------\n"
     ]
    },
    {
     "data": {
      "application/vnd.jupyter.widget-view+json": {
       "model_id": "57df0f75fcc24d789dbb0f970333ce18",
       "version_major": 2,
       "version_minor": 0
      },
      "text/plain": [
       "  0%|          | 0/180 [00:00<?, ?it/s]"
      ]
     },
     "metadata": {},
     "output_type": "display_data"
    },
    {
     "name": "stdout",
     "output_type": "stream",
     "text": [
      "Validating...\n",
      "Epoch 8 Iteration 1440 \n",
      "Train loss = 0.002307614166380113 \n",
      "Val loss = 0.3306073695656997 \n",
      "Accuracy = 0.912932138284251 \n",
      "F-score = 0.9125139530657698 \n",
      "\n",
      "-- EPOCH 9 ---------------------\n"
     ]
    },
    {
     "data": {
      "application/vnd.jupyter.widget-view+json": {
       "model_id": "2d136637454841b6944c639a3e3d0b59",
       "version_major": 2,
       "version_minor": 0
      },
      "text/plain": [
       "  0%|          | 0/180 [00:00<?, ?it/s]"
      ]
     },
     "metadata": {},
     "output_type": "display_data"
    },
    {
     "name": "stdout",
     "output_type": "stream",
     "text": [
      "Validating...\n",
      "Epoch 9 Iteration 1620 \n",
      "Train loss = 0.0020095932313577377 \n",
      "Val loss = 0.3286969609487849 \n",
      "Accuracy = 0.9137003841229193 \n",
      "F-score = 0.9134338483521565 \n",
      "\n"
     ]
    }
   ],
   "source": [
    "result = classic_train(net, 180, device, loss_fn, optimizer, train_loader, val_loader, num_epoch=10, NUM_TEST=NUM_TEST, NAME_TEST=NAME_TEST, begin=0)"
   ]
  },
  {
   "cell_type": "markdown",
   "metadata": {},
   "source": [
    "Maximum Accuracy is 91.3%\n",
    "It is much less than classic method accuracy. This is a bit strange. I will inverstigate that problem."
   ]
  },
  {
   "cell_type": "code",
   "execution_count": null,
   "metadata": {},
   "outputs": [],
   "source": []
  }
 ],
 "metadata": {
  "kernelspec": {
   "display_name": "Python 3",
   "language": "python",
   "name": "python3"
  },
  "language_info": {
   "codemirror_mode": {
    "name": "ipython",
    "version": 3
   },
   "file_extension": ".py",
   "mimetype": "text/x-python",
   "name": "python",
   "nbconvert_exporter": "python",
   "pygments_lexer": "ipython3",
   "version": "3.8.5"
  }
 },
 "nbformat": 4,
 "nbformat_minor": 5
}
